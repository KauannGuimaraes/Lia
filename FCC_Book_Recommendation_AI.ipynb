{
  "cells": [
    {
      "cell_type": "code",
      "execution_count": null,
      "id": "2c763558",
      "metadata": {
        "id": "2c763558"
      },
      "outputs": [],
      "source": [
        "import numpy as np\n",
        "import pandas as pd\n",
        "from scipy.sparse import csr_matrix\n",
        "from sklearn.neighbors import NearestNeighbors\n",
        "from sklearn.preprocessing import StandardScaler\n",
        "import matplotlib.pyplot as plt"
      ]
    },
    {
      "cell_type": "code",
      "execution_count": null,
      "id": "84eea02b",
      "metadata": {
        "id": "84eea02b",
        "outputId": "70aad445-9e33-4174-beeb-4bc571c6d0c0",
        "colab": {
          "base_uri": "https://localhost:8080/"
        }
      },
      "outputs": [
        {
          "output_type": "stream",
          "name": "stdout",
          "text": [
            "--2022-08-25 04:32:10--  https://cdn.freecodecamp.org/project-data/books/book-crossings.zip\n",
            "Resolving cdn.freecodecamp.org (cdn.freecodecamp.org)... 104.26.2.33, 104.26.3.33, 172.67.70.149, ...\n",
            "Connecting to cdn.freecodecamp.org (cdn.freecodecamp.org)|104.26.2.33|:443... connected.\n",
            "HTTP request sent, awaiting response... 200 OK\n",
            "Length: 26085508 (25M) [application/zip]\n",
            "Saving to: ‘book-crossings.zip’\n",
            "\n",
            "book-crossings.zip  100%[===================>]  24.88M  80.0MB/s    in 0.3s    \n",
            "\n",
            "2022-08-25 04:32:11 (80.0 MB/s) - ‘book-crossings.zip’ saved [26085508/26085508]\n",
            "\n",
            "Archive:  book-crossings.zip\n",
            "  inflating: BX-Book-Ratings.csv     \n",
            "  inflating: BX-Books.csv            \n",
            "  inflating: BX-Users.csv            \n"
          ]
        }
      ],
      "source": [
        "# get data files\n",
        "!wget https://cdn.freecodecamp.org/project-data/books/book-crossings.zip\n",
        "\n",
        "!unzip book-crossings.zip\n",
        "\n",
        "books_filename = 'BX-Books.csv'\n",
        "ratings_filename = 'BX-Book-Ratings.csv'"
      ]
    },
    {
      "cell_type": "code",
      "execution_count": null,
      "id": "1b84db4b",
      "metadata": {
        "id": "1b84db4b"
      },
      "outputs": [],
      "source": [
        "# import csv data into dataframes\n",
        "dataframe_books = pd.read_csv(\n",
        "    books_filename,\n",
        "    encoding = \"ISO-8859-1\",\n",
        "    sep=\";\",\n",
        "    header=0,\n",
        "    names=['isbn', 'title', 'author'],\n",
        "    usecols=['isbn', 'title', 'author'],\n",
        "    dtype={'isbn': 'str', 'title': 'str', 'author': 'str'})\n",
        "\n",
        "dataframe_ratings = pd.read_csv(\n",
        "    ratings_filename,\n",
        "    encoding = \"ISO-8859-1\",\n",
        "    sep=\";\",\n",
        "    header=0,\n",
        "    names=['user', 'isbn', 'rating'],\n",
        "    usecols=['user', 'isbn', 'rating'],\n",
        "    dtype={'user': 'str', 'isbn': 'str', 'rating': 'float32'})"
      ]
    },
    {
      "cell_type": "code",
      "execution_count": null,
      "id": "a54ef52f",
      "metadata": {
        "id": "a54ef52f"
      },
      "outputs": [],
      "source": [
        "dataframe_books.dropna(inplace=True)\n",
        "dataframe_ratings.dropna(inplace=True)"
      ]
    },
    {
      "cell_type": "code",
      "source": [
        "dataframe_ratings.isnull().sum()"
      ],
      "metadata": {
        "colab": {
          "base_uri": "https://localhost:8080/"
        },
        "id": "BENnU0ch176c",
        "outputId": "d088c3e6-0c0a-49cd-92d8-3a8fcadcd053"
      },
      "id": "BENnU0ch176c",
      "execution_count": null,
      "outputs": [
        {
          "output_type": "execute_result",
          "data": {
            "text/plain": [
              "user      0\n",
              "isbn      0\n",
              "rating    0\n",
              "dtype: int64"
            ]
          },
          "metadata": {},
          "execution_count": 351
        }
      ]
    },
    {
      "cell_type": "code",
      "execution_count": null,
      "id": "dd7ac4c0",
      "metadata": {
        "id": "dd7ac4c0",
        "outputId": "25eebb19-bf1c-4af3-9914-97934a360f85",
        "colab": {
          "base_uri": "https://localhost:8080/"
        }
      },
      "outputs": [
        {
          "output_type": "execute_result",
          "data": {
            "text/plain": [
              "isbn      0\n",
              "title     0\n",
              "author    0\n",
              "dtype: int64"
            ]
          },
          "metadata": {},
          "execution_count": 352
        }
      ],
      "source": [
        "dataframe_books.isnull().sum()"
      ]
    },
    {
      "cell_type": "code",
      "source": [
        "firstValue = dataframe_ratings['user'].value_counts()\n",
        "secondValue = dataframe_ratings['isbn'].value_counts()\n",
        "\n",
        "dataframe = dataframe_ratings[~dataframe_ratings['user'].isin(firstValue[firstValue < 200].index)]\n",
        "dataframe = dataframe[~dataframe['isbn'].isin(secondValue[secondValue < 100].index)]\n",
        "dataframe.shape"
      ],
      "metadata": {
        "colab": {
          "base_uri": "https://localhost:8080/"
        },
        "id": "ZHocINJjLt7e",
        "outputId": "b86bd934-2d12-45db-e845-bbf362a29561"
      },
      "id": "ZHocINJjLt7e",
      "execution_count": null,
      "outputs": [
        {
          "output_type": "execute_result",
          "data": {
            "text/plain": [
              "(49781, 3)"
            ]
          },
          "metadata": {},
          "execution_count": 353
        }
      ]
    },
    {
      "cell_type": "code",
      "source": [
        "dataframe = dataframe.pivot_table(index=['user'],columns=['isbn'],values='rating').fillna(0).T"
      ],
      "metadata": {
        "id": "59N4W9WN9ypn"
      },
      "id": "59N4W9WN9ypn",
      "execution_count": null,
      "outputs": []
    },
    {
      "cell_type": "code",
      "source": [
        "dataframe.index = dataframe.join(dataframe_books.set_index('isbn'))['title']"
      ],
      "metadata": {
        "id": "CNU1j0ij_H0h"
      },
      "id": "CNU1j0ij_H0h",
      "execution_count": null,
      "outputs": []
    },
    {
      "cell_type": "code",
      "execution_count": null,
      "id": "b66c9e50",
      "metadata": {
        "id": "b66c9e50",
        "outputId": "d608884b-b34a-450f-820b-c56db143b90f",
        "colab": {
          "base_uri": "https://localhost:8080/"
        }
      },
      "outputs": [
        {
          "output_type": "execute_result",
          "data": {
            "text/plain": [
              "NearestNeighbors(metric='cosine')"
            ]
          },
          "metadata": {},
          "execution_count": 338
        }
      ],
      "source": [
        "model = NearestNeighbors(metric='cosine')\n",
        "model.fit(dataframe.values)"
      ]
    },
    {
      "cell_type": "code",
      "execution_count": null,
      "id": "dbcecfe6",
      "metadata": {
        "id": "dbcecfe6"
      },
      "outputs": [],
      "source": [
        "# function to return recommended books - this will be tested\n",
        "def get_recommends(book = \"\"):\n",
        "  title = dataframe.loc[book]\n",
        "  distance, indice = model.kneighbors([title.values], n_neighbors=6)\n",
        "  recommended_books = pd.DataFrame({\n",
        "      'title' : dataframe.iloc[indice[0]].index.values,\n",
        "      'distance' : distance[0]\n",
        "  }).sort_values(by='distance', ascending=False).head(6).values\n",
        "  return [book, recommended_books]"
      ]
    },
    {
      "cell_type": "code",
      "execution_count": null,
      "id": "f803e985",
      "metadata": {
        "id": "f803e985",
        "outputId": "a91e230f-88cd-4f65-f7d9-e2b591084a9e",
        "colab": {
          "base_uri": "https://localhost:8080/"
        }
      },
      "outputs": [
        {
          "output_type": "stream",
          "name": "stdout",
          "text": [
            "['The Queen of the Damned (Vampire Chronicles (Paperback))', array([['Catch 22', 0.793983519077301],\n",
            "       ['The Witching Hour (Lives of the Mayfair Witches)',\n",
            "        0.7448656558990479],\n",
            "       ['Interview with the Vampire', 0.7345069050788879],\n",
            "       ['The Tale of the Body Thief (Vampire Chronicles (Paperback))',\n",
            "        0.5376338958740234],\n",
            "       ['The Vampire Lestat (Vampire Chronicles, Book II)',\n",
            "        0.517841100692749],\n",
            "       ['The Queen of the Damned (Vampire Chronicles (Paperback))', 0.0]],\n",
            "      dtype=object)]\n"
          ]
        }
      ],
      "source": [
        "books = get_recommends(\"The Queen of the Damned (Vampire Chronicles (Paperback))\")\n",
        "print(books)"
      ]
    },
    {
      "cell_type": "code",
      "execution_count": null,
      "id": "28ccffc6",
      "metadata": {
        "id": "28ccffc6",
        "outputId": "aa141dae-9189-4b82-cd15-7a76469761e3",
        "colab": {
          "base_uri": "https://localhost:8080/"
        }
      },
      "outputs": [
        {
          "output_type": "stream",
          "name": "stdout",
          "text": [
            "[\"Where the Heart Is (Oprah's Book Club (Paperback))\", array([[\"I'll Be Seeing You\", 0.8016210794448853],\n",
            "       ['The Weight of Water', 0.7708583474159241],\n",
            "       ['The Surgeon', 0.7699410915374756],\n",
            "       ['I Know This Much Is True', 0.7677074670791626],\n",
            "       ['The Lovely Bones: A Novel', 0.7234864234924316],\n",
            "       [\"Where the Heart Is (Oprah's Book Club (Paperback))\", 0.0]],\n",
            "      dtype=object)]\n",
            "You passed the challenge! 🎉🎉🎉🎉🎉\n"
          ]
        }
      ],
      "source": [
        "books = get_recommends(\"Where the Heart Is (Oprah's Book Club (Paperback))\")\n",
        "print(books)\n",
        "\n",
        "def test_book_recommendation():\n",
        "  test_pass = True\n",
        "  recommends = get_recommends(\"Where the Heart Is (Oprah's Book Club (Paperback))\")\n",
        "  if recommends[0] != \"Where the Heart Is (Oprah's Book Club (Paperback))\":\n",
        "    test_pass = False\n",
        "  recommended_books = [\"I'll Be Seeing You\", 'The Weight of Water', 'The Surgeon', 'I Know This Much Is True']\n",
        "  recommended_books_dist = [0.8, 0.77, 0.77, 0.77]\n",
        "  for i in range(2): \n",
        "    if recommends[1][i][0] not in recommended_books:\n",
        "      test_pass = False\n",
        "    if abs(recommends[1][i][1] - recommended_books_dist[i]) >= 0.05:\n",
        "      test_pass = False\n",
        "  if test_pass:\n",
        "    print(\"You passed the challenge! 🎉🎉🎉🎉🎉\")\n",
        "  else:\n",
        "    print(\"You havn't passed yet. Keep trying!\")\n",
        "\n",
        "test_book_recommendation()"
      ]
    }
  ],
  "metadata": {
    "kernelspec": {
      "display_name": "Python 3 (ipykernel)",
      "language": "python",
      "name": "python3"
    },
    "language_info": {
      "codemirror_mode": {
        "name": "ipython",
        "version": 3
      },
      "file_extension": ".py",
      "mimetype": "text/x-python",
      "name": "python",
      "nbconvert_exporter": "python",
      "pygments_lexer": "ipython3",
      "version": "3.9.7"
    },
    "colab": {
      "provenance": [],
      "collapsed_sections": []
    }
  },
  "nbformat": 4,
  "nbformat_minor": 5
}