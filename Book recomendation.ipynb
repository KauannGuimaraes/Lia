{
 "cells": [
  {
   "cell_type": "code",
   "execution_count": 1,
   "id": "2c763558",
   "metadata": {},
   "outputs": [],
   "source": [
    "import numpy as np\n",
    "import pandas as pd\n",
    "from scipy.sparse import csr_matrix\n",
    "from sklearn.neighbors import NearestNeighbors\n",
    "from sklearn.preprocessing import StandardScaler\n",
    "import matplotlib.pyplot as plt"
   ]
  },
  {
   "cell_type": "code",
   "execution_count": 2,
   "id": "84eea02b",
   "metadata": {},
   "outputs": [
    {
     "name": "stdout",
     "output_type": "stream",
     "text": [
      "--2022-08-12 14:16:30--  https://cdn.freecodecamp.org/project-data/books/book-crossings.zip\n",
      "Resolving cdn.freecodecamp.org... 104.26.2.33, 172.67.70.149, 104.26.3.33, ...\n",
      "Connecting to cdn.freecodecamp.org|104.26.2.33|:443... connected.\n",
      "HTTP request sent, awaiting response... 200 OK\n",
      "Length: 26085508 (25M) [application/zip]\n",
      "Saving to: ‘book-crossings.zip’\n",
      "\n",
      "book-crossings.zip  100%[===================>]  24,88M  10,3MB/s    in 2,4s    \n",
      "\n",
      "2022-08-12 14:16:33 (10,3 MB/s) - ‘book-crossings.zip’ saved [26085508/26085508]\n",
      "\n",
      "Archive:  book-crossings.zip\n",
      "  inflating: BX-Book-Ratings.csv     \n",
      "  inflating: BX-Books.csv            \n",
      "  inflating: BX-Users.csv            \n"
     ]
    }
   ],
   "source": [
    "# get data files\n",
    "!wget https://cdn.freecodecamp.org/project-data/books/book-crossings.zip\n",
    "\n",
    "!unzip book-crossings.zip\n",
    "\n",
    "books_filename = 'BX-Books.csv'\n",
    "ratings_filename = 'BX-Book-Ratings.csv'"
   ]
  },
  {
   "cell_type": "code",
   "execution_count": 3,
   "id": "1b84db4b",
   "metadata": {},
   "outputs": [],
   "source": [
    "# import csv data into dataframes\n",
    "df_books = pd.read_csv(\n",
    "    books_filename,\n",
    "    encoding = \"ISO-8859-1\",\n",
    "    sep=\";\",\n",
    "    header=0,\n",
    "    names=['isbn', 'title', 'author'],\n",
    "    usecols=['isbn', 'title', 'author'],\n",
    "    dtype={'isbn': 'str', 'title': 'str', 'author': 'str'})\n",
    "\n",
    "df_ratings = pd.read_csv(\n",
    "    ratings_filename,\n",
    "    encoding = \"ISO-8859-1\",\n",
    "    sep=\";\",\n",
    "    header=0,\n",
    "    names=['user', 'isbn', 'rating'],\n",
    "    usecols=['user', 'isbn', 'rating'],\n",
    "    dtype={'user': 'str', 'isbn': 'str', 'rating': 'float32'})"
   ]
  },
  {
   "cell_type": "code",
   "execution_count": 4,
   "id": "4b6b6880",
   "metadata": {},
   "outputs": [
    {
     "data": {
      "text/plain": [
       "isbn      0\n",
       "title     0\n",
       "author    1\n",
       "dtype: int64"
      ]
     },
     "execution_count": 4,
     "metadata": {},
     "output_type": "execute_result"
    }
   ],
   "source": [
    "df_books.isnull().sum()"
   ]
  },
  {
   "cell_type": "code",
   "execution_count": 5,
   "id": "3cae0a00",
   "metadata": {},
   "outputs": [
    {
     "data": {
      "text/plain": [
       "user      0\n",
       "isbn      0\n",
       "rating    0\n",
       "dtype: int64"
      ]
     },
     "execution_count": 5,
     "metadata": {},
     "output_type": "execute_result"
    }
   ],
   "source": [
    "df_ratings.isnull().sum()"
   ]
  },
  {
   "cell_type": "code",
   "execution_count": 6,
   "id": "a54ef52f",
   "metadata": {},
   "outputs": [],
   "source": [
    "df_books.dropna(inplace=True)"
   ]
  },
  {
   "cell_type": "code",
   "execution_count": 7,
   "id": "dd7ac4c0",
   "metadata": {},
   "outputs": [
    {
     "data": {
      "text/plain": [
       "isbn      0\n",
       "title     0\n",
       "author    0\n",
       "dtype: int64"
      ]
     },
     "execution_count": 7,
     "metadata": {},
     "output_type": "execute_result"
    }
   ],
   "source": [
    "df_books.isnull().sum()"
   ]
  },
  {
   "cell_type": "code",
   "execution_count": 8,
   "id": "1ec25427",
   "metadata": {},
   "outputs": [],
   "source": [
    "ratings = df_ratings['user'].value_counts()\n",
    "df_ratings_rm = df_ratings[\n",
    "                           ~df_ratings['user'].isin(ratings[ratings < 200].index)\n",
    "]"
   ]
  },
  {
   "cell_type": "code",
   "execution_count": 9,
   "id": "5fd30ed6",
   "metadata": {},
   "outputs": [],
   "source": [
    "ratings = df_ratings['isbn'].value_counts()\n",
    "df_ratings_rm = df_ratings_rm[\n",
    "                              ~df_ratings_rm['isbn'].isin(ratings[ratings < 100].index)\n",
    "]"
   ]
  },
  {
   "cell_type": "code",
   "execution_count": 10,
   "id": "a5d5ec37",
   "metadata": {},
   "outputs": [],
   "source": [
    "df = df_ratings_rm.pivot_table(index=['user'], columns=['isbn'], values='rating').fillna(0).T"
   ]
  },
  {
   "cell_type": "code",
   "execution_count": 11,
   "id": "173c49b7",
   "metadata": {},
   "outputs": [],
   "source": [
    "df.index = df.join(df_books.set_index('isbn'))['title']"
   ]
  },
  {
   "cell_type": "code",
   "execution_count": 12,
   "id": "b66c9e50",
   "metadata": {},
   "outputs": [
    {
     "data": {
      "text/plain": [
       "NearestNeighbors(metric='cosine')"
      ]
     },
     "execution_count": 12,
     "metadata": {},
     "output_type": "execute_result"
    }
   ],
   "source": [
    "model = NearestNeighbors(metric='cosine')\n",
    "model.fit(df.values)"
   ]
  },
  {
   "cell_type": "code",
   "execution_count": 13,
   "id": "bc075d0f",
   "metadata": {},
   "outputs": [
    {
     "name": "stdout",
     "output_type": "stream",
     "text": [
      "[[0.         0.51784116 0.53763384 0.73450685 0.74486566 0.7939835 ]]\n",
      "[[137 127 153 128 152 644]]\n"
     ]
    },
    {
     "data": {
      "text/html": [
       "<div>\n",
       "<style scoped>\n",
       "    .dataframe tbody tr th:only-of-type {\n",
       "        vertical-align: middle;\n",
       "    }\n",
       "\n",
       "    .dataframe tbody tr th {\n",
       "        vertical-align: top;\n",
       "    }\n",
       "\n",
       "    .dataframe thead th {\n",
       "        text-align: right;\n",
       "    }\n",
       "</style>\n",
       "<table border=\"1\" class=\"dataframe\">\n",
       "  <thead>\n",
       "    <tr style=\"text-align: right;\">\n",
       "      <th></th>\n",
       "      <th>title</th>\n",
       "      <th>distance</th>\n",
       "    </tr>\n",
       "  </thead>\n",
       "  <tbody>\n",
       "    <tr>\n",
       "      <th>5</th>\n",
       "      <td>Catch 22</td>\n",
       "      <td>0.793984</td>\n",
       "    </tr>\n",
       "    <tr>\n",
       "      <th>4</th>\n",
       "      <td>The Witching Hour (Lives of the Mayfair Witches)</td>\n",
       "      <td>0.744866</td>\n",
       "    </tr>\n",
       "    <tr>\n",
       "      <th>3</th>\n",
       "      <td>Interview with the Vampire</td>\n",
       "      <td>0.734507</td>\n",
       "    </tr>\n",
       "    <tr>\n",
       "      <th>2</th>\n",
       "      <td>The Tale of the Body Thief (Vampire Chronicles...</td>\n",
       "      <td>0.537634</td>\n",
       "    </tr>\n",
       "    <tr>\n",
       "      <th>1</th>\n",
       "      <td>The Vampire Lestat (Vampire Chronicles, Book II)</td>\n",
       "      <td>0.517841</td>\n",
       "    </tr>\n",
       "    <tr>\n",
       "      <th>0</th>\n",
       "      <td>The Queen of the Damned (Vampire Chronicles (P...</td>\n",
       "      <td>0.000000</td>\n",
       "    </tr>\n",
       "  </tbody>\n",
       "</table>\n",
       "</div>"
      ],
      "text/plain": [
       "                                               title  distance\n",
       "5                                           Catch 22  0.793984\n",
       "4   The Witching Hour (Lives of the Mayfair Witches)  0.744866\n",
       "3                         Interview with the Vampire  0.734507\n",
       "2  The Tale of the Body Thief (Vampire Chronicles...  0.537634\n",
       "1   The Vampire Lestat (Vampire Chronicles, Book II)  0.517841\n",
       "0  The Queen of the Damned (Vampire Chronicles (P...  0.000000"
      ]
     },
     "execution_count": 13,
     "metadata": {},
     "output_type": "execute_result"
    }
   ],
   "source": [
    "df.iloc[0].shape\n",
    "title = 'The Queen of the Damned (Vampire Chronicles (Paperback))'\n",
    "df.loc[title].shape\n",
    "distance, indice = model.kneighbors([df.loc[title].values], n_neighbors = 6)\n",
    "print(distance)\n",
    "print(indice)\n",
    "df.iloc[indice[0]].index.values\n",
    "pd.DataFrame({\n",
    "    'title' : df.iloc[indice[0]].index.values,\n",
    "    'distance' : distance[0]\n",
    "})\\\n",
    ".sort_values(by='distance', ascending=False)"
   ]
  },
  {
   "cell_type": "code",
   "execution_count": 42,
   "id": "8566c70f",
   "metadata": {},
   "outputs": [
    {
     "data": {
      "text/html": [
       "<div>\n",
       "<style scoped>\n",
       "    .dataframe tbody tr th:only-of-type {\n",
       "        vertical-align: middle;\n",
       "    }\n",
       "\n",
       "    .dataframe tbody tr th {\n",
       "        vertical-align: top;\n",
       "    }\n",
       "\n",
       "    .dataframe thead th {\n",
       "        text-align: right;\n",
       "    }\n",
       "</style>\n",
       "<table border=\"1\" class=\"dataframe\">\n",
       "  <thead>\n",
       "    <tr style=\"text-align: right;\">\n",
       "      <th></th>\n",
       "      <th>title</th>\n",
       "      <th>distance</th>\n",
       "    </tr>\n",
       "  </thead>\n",
       "  <tbody>\n",
       "    <tr>\n",
       "      <th>5</th>\n",
       "      <td>Catch 22</td>\n",
       "      <td>0.793984</td>\n",
       "    </tr>\n",
       "    <tr>\n",
       "      <th>4</th>\n",
       "      <td>The Witching Hour (Lives of the Mayfair Witches)</td>\n",
       "      <td>0.744866</td>\n",
       "    </tr>\n",
       "    <tr>\n",
       "      <th>3</th>\n",
       "      <td>Interview with the Vampire</td>\n",
       "      <td>0.734507</td>\n",
       "    </tr>\n",
       "    <tr>\n",
       "      <th>2</th>\n",
       "      <td>The Tale of the Body Thief (Vampire Chronicles...</td>\n",
       "      <td>0.537634</td>\n",
       "    </tr>\n",
       "    <tr>\n",
       "      <th>1</th>\n",
       "      <td>The Vampire Lestat (Vampire Chronicles, Book II)</td>\n",
       "      <td>0.517841</td>\n",
       "    </tr>\n",
       "    <tr>\n",
       "      <th>0</th>\n",
       "      <td>The Queen of the Damned (Vampire Chronicles (P...</td>\n",
       "      <td>0.000000</td>\n",
       "    </tr>\n",
       "  </tbody>\n",
       "</table>\n",
       "</div>"
      ],
      "text/plain": [
       "                                               title  distance\n",
       "5                                           Catch 22  0.793984\n",
       "4   The Witching Hour (Lives of the Mayfair Witches)  0.744866\n",
       "3                         Interview with the Vampire  0.734507\n",
       "2  The Tale of the Body Thief (Vampire Chronicles...  0.537634\n",
       "1   The Vampire Lestat (Vampire Chronicles, Book II)  0.517841\n",
       "0  The Queen of the Damned (Vampire Chronicles (P...  0.000000"
      ]
     },
     "execution_count": 42,
     "metadata": {},
     "output_type": "execute_result"
    }
   ],
   "source": [
    "pd.DataFrame({\n",
    "    'title' : df.iloc[indice[0]].index.values,\n",
    "    'distance' : distance[0]\n",
    " }).sort_values(by='distance', ascending=False)"
   ]
  },
  {
   "cell_type": "code",
   "execution_count": 53,
   "id": "dbcecfe6",
   "metadata": {},
   "outputs": [],
   "source": [
    "# function to return recommended books - this will be tested\n",
    "def get_recommends(title = \"\"):\n",
    "  try:\n",
    "    book = df.loc[title]\n",
    "  except KeyError as e:\n",
    "    print('Este livro:', e, ', não existe')\n",
    "    return\n",
    "  distance, indice = model.kneighbors([book.values], n_neighbors=6)\n",
    "  recommended_books = pd.DataFrame({\n",
    "      'title' : df.iloc[indice[0]].index.values,\n",
    "      'distance' : distance[0]\n",
    "  }) \\\n",
    "  .sort_values(by='distance', ascending=False)\\\n",
    "  .head(5).values\n",
    "\n",
    "  return [title, recommended_books]"
   ]
  },
  {
   "cell_type": "code",
   "execution_count": 54,
   "id": "f803e985",
   "metadata": {},
   "outputs": [
    {
     "data": {
      "text/plain": [
       "['The Queen of the Damned (Vampire Chronicles (Paperback))',\n",
       " array([['Catch 22', 0.793983519077301],\n",
       "        ['The Witching Hour (Lives of the Mayfair Witches)',\n",
       "         0.7448656558990479],\n",
       "        ['Interview with the Vampire', 0.7345068454742432],\n",
       "        ['The Tale of the Body Thief (Vampire Chronicles (Paperback))',\n",
       "         0.5376338362693787],\n",
       "        ['The Vampire Lestat (Vampire Chronicles, Book II)',\n",
       "         0.5178411602973938]], dtype=object)]"
      ]
     },
     "execution_count": 54,
     "metadata": {},
     "output_type": "execute_result"
    }
   ],
   "source": [
    "get_recommends(\"The Queen of the Damned (Vampire Chronicles (Paperback))\")"
   ]
  },
  {
   "cell_type": "code",
   "execution_count": 55,
   "id": "28ccffc6",
   "metadata": {},
   "outputs": [
    {
     "name": "stdout",
     "output_type": "stream",
     "text": [
      "[\"Where the Heart Is (Oprah's Book Club (Paperback))\", array([[\"I'll Be Seeing You\", 0.8016210794448853],\n",
      "       ['The Weight of Water', 0.7708583474159241],\n",
      "       ['The Surgeon', 0.7699410915374756],\n",
      "       ['I Know This Much Is True', 0.7677075266838074],\n",
      "       ['The Lovely Bones: A Novel', 0.7234864234924316]], dtype=object)]\n",
      "You passed the challenge! 🎉🎉🎉🎉🎉\n"
     ]
    }
   ],
   "source": [
    "books = get_recommends(\"Where the Heart Is (Oprah's Book Club (Paperback))\")\n",
    "print(books)\n",
    "\n",
    "def test_book_recommendation():\n",
    "  test_pass = True\n",
    "  recommends = get_recommends(\"Where the Heart Is (Oprah's Book Club (Paperback))\")\n",
    "  if recommends[0] != \"Where the Heart Is (Oprah's Book Club (Paperback))\":\n",
    "    test_pass = False\n",
    "  recommended_books = [\"I'll Be Seeing You\", 'The Weight of Water', 'The Surgeon', 'I Know This Much Is True']\n",
    "  recommended_books_dist = [0.8, 0.77, 0.77, 0.77]\n",
    "  for i in range(2): \n",
    "    if recommends[1][i][0] not in recommended_books:\n",
    "      test_pass = False\n",
    "    if abs(recommends[1][i][1] - recommended_books_dist[i]) >= 0.05:\n",
    "      test_pass = False\n",
    "  if test_pass:\n",
    "    print(\"You passed the challenge! 🎉🎉🎉🎉🎉\")\n",
    "  else:\n",
    "    print(\"You havn't passed yet. Keep trying!\")\n",
    "\n",
    "test_book_recommendation()"
   ]
  },
  {
   "cell_type": "code",
   "execution_count": null,
   "id": "e489b888",
   "metadata": {},
   "outputs": [],
   "source": []
  }
 ],
 "metadata": {
  "kernelspec": {
   "display_name": "Python 3 (ipykernel)",
   "language": "python",
   "name": "python3"
  },
  "language_info": {
   "codemirror_mode": {
    "name": "ipython",
    "version": 3
   },
   "file_extension": ".py",
   "mimetype": "text/x-python",
   "name": "python",
   "nbconvert_exporter": "python",
   "pygments_lexer": "ipython3",
   "version": "3.9.7"
  }
 },
 "nbformat": 4,
 "nbformat_minor": 5
}
